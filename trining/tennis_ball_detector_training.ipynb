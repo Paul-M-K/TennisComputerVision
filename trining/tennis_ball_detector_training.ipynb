{
 "cells": [
  {
   "cell_type": "code",
   "execution_count": 1,
   "metadata": {},
   "outputs": [
    {
     "name": "stdout",
     "output_type": "stream",
     "text": [
      "Collecting roboflow\n",
      "  Obtaining dependency information for roboflow from https://files.pythonhosted.org/packages/29/b0/771f09778790ab091cf40cd40d211e05929c398594561b2a2435841b8e66/roboflow-1.1.26-py3-none-any.whl.metadata\n",
      "  Downloading roboflow-1.1.26-py3-none-any.whl.metadata (9.3 kB)\n",
      "Collecting certifi==2023.7.22 (from roboflow)\n",
      "  Obtaining dependency information for certifi==2023.7.22 from https://files.pythonhosted.org/packages/4c/dd/2234eab22353ffc7d94e8d13177aaa050113286e93e7b40eae01fbf7c3d9/certifi-2023.7.22-py3-none-any.whl.metadata\n",
      "  Downloading certifi-2023.7.22-py3-none-any.whl.metadata (2.2 kB)\n",
      "Requirement already satisfied: chardet==4.0.0 in c:\\users\\ton7323\\appdata\\local\\anaconda3\\lib\\site-packages (from roboflow) (4.0.0)\n",
      "Collecting cycler==0.10.0 (from roboflow)\n",
      "  Obtaining dependency information for cycler==0.10.0 from https://files.pythonhosted.org/packages/f7/d2/e07d3ebb2bd7af696440ce7e754c59dd546ffe1bbe732c8ab68b9c834e61/cycler-0.10.0-py2.py3-none-any.whl.metadata\n",
      "  Downloading cycler-0.10.0-py2.py3-none-any.whl.metadata (722 bytes)\n",
      "Collecting idna==2.10 (from roboflow)\n",
      "  Obtaining dependency information for idna==2.10 from https://files.pythonhosted.org/packages/a2/38/928ddce2273eaa564f6f50de919327bf3a00f091b5baba8dfa9460f3a8a8/idna-2.10-py2.py3-none-any.whl.metadata\n",
      "  Downloading idna-2.10-py2.py3-none-any.whl.metadata (9.1 kB)\n",
      "Requirement already satisfied: kiwisolver>=1.3.1 in c:\\users\\ton7323\\appdata\\local\\anaconda3\\lib\\site-packages (from roboflow) (1.4.4)\n",
      "Requirement already satisfied: matplotlib in c:\\users\\ton7323\\appdata\\local\\anaconda3\\lib\\site-packages (from roboflow) (3.7.1)\n",
      "Requirement already satisfied: numpy>=1.18.5 in c:\\users\\ton7323\\appdata\\local\\anaconda3\\lib\\site-packages (from roboflow) (1.24.3)\n",
      "Collecting opencv-python-headless==4.8.0.74 (from roboflow)\n",
      "  Obtaining dependency information for opencv-python-headless==4.8.0.74 from https://files.pythonhosted.org/packages/60/e7/a6dedca760db7a4686fd3b6053487ad4ad4d8f0591295dc8a9cf35269c42/opencv_python_headless-4.8.0.74-cp37-abi3-win_amd64.whl.metadata\n",
      "  Downloading opencv_python_headless-4.8.0.74-cp37-abi3-win_amd64.whl.metadata (19 kB)\n",
      "Requirement already satisfied: Pillow>=7.1.2 in c:\\users\\ton7323\\appdata\\local\\anaconda3\\lib\\site-packages (from roboflow) (10.0.1)\n",
      "Requirement already satisfied: python-dateutil in c:\\users\\ton7323\\appdata\\local\\anaconda3\\lib\\site-packages (from roboflow) (2.8.2)\n",
      "Requirement already satisfied: python-dotenv in c:\\users\\ton7323\\appdata\\local\\anaconda3\\lib\\site-packages (from roboflow) (0.21.0)\n",
      "Requirement already satisfied: requests in c:\\users\\ton7323\\appdata\\local\\anaconda3\\lib\\site-packages (from roboflow) (2.31.0)\n",
      "Requirement already satisfied: six in c:\\users\\ton7323\\appdata\\local\\anaconda3\\lib\\site-packages (from roboflow) (1.16.0)\n",
      "Requirement already satisfied: urllib3>=1.26.6 in c:\\users\\ton7323\\appdata\\local\\anaconda3\\lib\\site-packages (from roboflow) (1.26.16)\n",
      "Requirement already satisfied: tqdm>=4.41.0 in c:\\users\\ton7323\\appdata\\local\\anaconda3\\lib\\site-packages (from roboflow) (4.65.0)\n",
      "Requirement already satisfied: PyYAML>=5.3.1 in c:\\users\\ton7323\\appdata\\local\\anaconda3\\lib\\site-packages (from roboflow) (6.0)\n",
      "Requirement already satisfied: requests-toolbelt in c:\\users\\ton7323\\appdata\\local\\anaconda3\\lib\\site-packages (from roboflow) (1.0.0)\n",
      "Collecting python-magic (from roboflow)\n",
      "  Obtaining dependency information for python-magic from https://files.pythonhosted.org/packages/6c/73/9f872cb81fc5c3bb48f7227872c28975f998f3e7c2b1c16e95e6432bbb90/python_magic-0.4.27-py2.py3-none-any.whl.metadata\n",
      "  Downloading python_magic-0.4.27-py2.py3-none-any.whl.metadata (5.8 kB)\n",
      "Requirement already satisfied: colorama in c:\\users\\ton7323\\appdata\\local\\anaconda3\\lib\\site-packages (from tqdm>=4.41.0->roboflow) (0.4.6)\n",
      "Requirement already satisfied: contourpy>=1.0.1 in c:\\users\\ton7323\\appdata\\local\\anaconda3\\lib\\site-packages (from matplotlib->roboflow) (1.0.5)\n",
      "Requirement already satisfied: fonttools>=4.22.0 in c:\\users\\ton7323\\appdata\\local\\anaconda3\\lib\\site-packages (from matplotlib->roboflow) (4.25.0)\n",
      "Requirement already satisfied: packaging>=20.0 in c:\\users\\ton7323\\appdata\\local\\anaconda3\\lib\\site-packages (from matplotlib->roboflow) (23.0)\n",
      "Requirement already satisfied: pyparsing>=2.3.1 in c:\\users\\ton7323\\appdata\\local\\anaconda3\\lib\\site-packages (from matplotlib->roboflow) (3.0.9)\n",
      "Requirement already satisfied: charset-normalizer<4,>=2 in c:\\users\\ton7323\\appdata\\local\\anaconda3\\lib\\site-packages (from requests->roboflow) (2.0.4)\n",
      "Downloading roboflow-1.1.26-py3-none-any.whl (71 kB)\n",
      "   ---------------------------------------- 0.0/72.0 kB ? eta -:--:--\n",
      "   ---------------------------------------- 72.0/72.0 kB 2.0 MB/s eta 0:00:00\n",
      "Downloading certifi-2023.7.22-py3-none-any.whl (158 kB)\n",
      "   ---------------------------------------- 0.0/158.3 kB ? eta -:--:--\n",
      "   ---------------------------------------- 158.3/158.3 kB 4.6 MB/s eta 0:00:00\n",
      "Downloading cycler-0.10.0-py2.py3-none-any.whl (6.5 kB)\n",
      "Downloading idna-2.10-py2.py3-none-any.whl (58 kB)\n",
      "   ---------------------------------------- 0.0/58.8 kB ? eta -:--:--\n",
      "   ---------------------------------------- 58.8/58.8 kB 3.0 MB/s eta 0:00:00\n",
      "Downloading opencv_python_headless-4.8.0.74-cp37-abi3-win_amd64.whl (38.0 MB)\n",
      "   ---------------------------------------- 0.0/38.0 MB ? eta -:--:--\n",
      "    --------------------------------------- 0.9/38.0 MB 28.1 MB/s eta 0:00:02\n",
      "   - -------------------------------------- 1.8/38.0 MB 19.2 MB/s eta 0:00:02\n",
      "   -- ------------------------------------- 2.8/38.0 MB 19.9 MB/s eta 0:00:02\n",
      "   ---- ----------------------------------- 3.8/38.0 MB 20.4 MB/s eta 0:00:02\n",
      "   ---- ----------------------------------- 4.5/38.0 MB 20.5 MB/s eta 0:00:02\n",
      "   ----- ---------------------------------- 4.8/38.0 MB 18.1 MB/s eta 0:00:02\n",
      "   ----- ---------------------------------- 5.6/38.0 MB 17.0 MB/s eta 0:00:02\n",
      "   ------ --------------------------------- 6.5/38.0 MB 17.4 MB/s eta 0:00:02\n",
      "   ------- -------------------------------- 7.5/38.0 MB 18.4 MB/s eta 0:00:02\n",
      "   -------- ------------------------------- 8.4/38.0 MB 18.5 MB/s eta 0:00:02\n",
      "   --------- ------------------------------ 9.1/38.0 MB 18.2 MB/s eta 0:00:02\n",
      "   ---------- ----------------------------- 9.9/38.0 MB 18.0 MB/s eta 0:00:02\n",
      "   ----------- ---------------------------- 11.1/38.0 MB 18.2 MB/s eta 0:00:02\n",
      "   ------------ --------------------------- 12.0/38.0 MB 18.2 MB/s eta 0:00:02\n",
      "   ------------- -------------------------- 13.0/38.0 MB 18.7 MB/s eta 0:00:02\n",
      "   -------------- ------------------------- 14.0/38.0 MB 18.2 MB/s eta 0:00:02\n",
      "   --------------- ------------------------ 15.0/38.0 MB 19.9 MB/s eta 0:00:02\n",
      "   ---------------- ----------------------- 16.0/38.0 MB 20.5 MB/s eta 0:00:02\n",
      "   ----------------- ---------------------- 16.7/38.0 MB 20.5 MB/s eta 0:00:02\n",
      "   ----------------- ---------------------- 16.9/38.0 MB 20.5 MB/s eta 0:00:02\n",
      "   ------------------- -------------------- 18.8/38.0 MB 21.1 MB/s eta 0:00:01\n",
      "   -------------------- ------------------- 19.8/38.0 MB 21.8 MB/s eta 0:00:01\n",
      "   --------------------- ------------------ 20.6/38.0 MB 21.8 MB/s eta 0:00:01\n",
      "   ---------------------- ----------------- 21.5/38.0 MB 21.1 MB/s eta 0:00:01\n",
      "   ----------------------- ---------------- 22.5/38.0 MB 21.1 MB/s eta 0:00:01\n",
      "   ------------------------ --------------- 23.5/38.0 MB 21.1 MB/s eta 0:00:01\n",
      "   ------------------------- -------------- 24.4/38.0 MB 20.5 MB/s eta 0:00:01\n",
      "   -------------------------- ------------- 25.0/38.0 MB 19.9 MB/s eta 0:00:01\n",
      "   --------------------------- ------------ 26.2/38.0 MB 19.8 MB/s eta 0:00:01\n",
      "   ---------------------------- ----------- 27.3/38.0 MB 22.5 MB/s eta 0:00:01\n",
      "   ----------------------------- ---------- 28.3/38.0 MB 20.5 MB/s eta 0:00:01\n",
      "   ------------------------------ --------- 29.2/38.0 MB 19.9 MB/s eta 0:00:01\n",
      "   ------------------------------- -------- 30.2/38.0 MB 19.9 MB/s eta 0:00:01\n",
      "   -------------------------------- ------- 30.8/38.0 MB 19.3 MB/s eta 0:00:01\n",
      "   --------------------------------- ------ 31.8/38.0 MB 19.3 MB/s eta 0:00:01\n",
      "   ---------------------------------- ----- 32.7/38.0 MB 19.3 MB/s eta 0:00:01\n",
      "   ----------------------------------- ---- 33.6/38.0 MB 19.8 MB/s eta 0:00:01\n",
      "   ------------------------------------ --- 34.5/38.0 MB 19.8 MB/s eta 0:00:01\n",
      "   ------------------------------------- -- 35.3/38.0 MB 19.8 MB/s eta 0:00:01\n",
      "   -------------------------------------- - 36.8/38.0 MB 20.5 MB/s eta 0:00:01\n",
      "   ---------------------------------------  37.9/38.0 MB 19.8 MB/s eta 0:00:01\n",
      "   ---------------------------------------  37.9/38.0 MB 20.5 MB/s eta 0:00:01\n",
      "   ---------------------------------------  37.9/38.0 MB 20.5 MB/s eta 0:00:01\n",
      "   ---------------------------------------- 38.0/38.0 MB 16.4 MB/s eta 0:00:00\n",
      "Downloading python_magic-0.4.27-py2.py3-none-any.whl (13 kB)\n",
      "Installing collected packages: python-magic, opencv-python-headless, idna, cycler, certifi, roboflow\n",
      "  Attempting uninstall: idna\n",
      "    Found existing installation: idna 3.4\n",
      "    Uninstalling idna-3.4:\n",
      "      Successfully uninstalled idna-3.4\n",
      "  Attempting uninstall: cycler\n",
      "    Found existing installation: cycler 0.11.0\n",
      "    Uninstalling cycler-0.11.0:\n",
      "      Successfully uninstalled cycler-0.11.0\n",
      "  Attempting uninstall: certifi\n",
      "    Found existing installation: certifi 2024.2.2\n",
      "    Uninstalling certifi-2024.2.2:\n",
      "      Successfully uninstalled certifi-2024.2.2\n",
      "Successfully installed certifi-2023.7.22 cycler-0.10.0 idna-2.10 opencv-python-headless-4.8.0.74 python-magic-0.4.27 roboflow-1.1.26\n"
     ]
    },
    {
     "name": "stderr",
     "output_type": "stream",
     "text": [
      "ERROR: pip's dependency resolver does not currently take into account all the packages that are installed. This behaviour is the source of the following dependency conflicts.\n",
      "transformers 2.1.1 requires sentencepiece, which is not installed.\n"
     ]
    },
    {
     "name": "stdout",
     "output_type": "stream",
     "text": [
      "Requirement already satisfied: ultralytics in c:\\users\\ton7323\\appdata\\local\\anaconda3\\lib\\site-packages (8.1.30)\n",
      "Requirement already satisfied: matplotlib>=3.3.0 in c:\\users\\ton7323\\appdata\\local\\anaconda3\\lib\\site-packages (from ultralytics) (3.7.1)\n",
      "Requirement already satisfied: opencv-python>=4.6.0 in c:\\users\\ton7323\\appdata\\local\\anaconda3\\lib\\site-packages (from ultralytics) (4.9.0.80)\n",
      "Requirement already satisfied: pillow>=7.1.2 in c:\\users\\ton7323\\appdata\\local\\anaconda3\\lib\\site-packages (from ultralytics) (10.0.1)\n",
      "Requirement already satisfied: pyyaml>=5.3.1 in c:\\users\\ton7323\\appdata\\local\\anaconda3\\lib\\site-packages (from ultralytics) (6.0)\n",
      "Requirement already satisfied: requests>=2.23.0 in c:\\users\\ton7323\\appdata\\local\\anaconda3\\lib\\site-packages (from ultralytics) (2.31.0)\n",
      "Requirement already satisfied: scipy>=1.4.1 in c:\\users\\ton7323\\appdata\\local\\anaconda3\\lib\\site-packages (from ultralytics) (1.10.1)\n",
      "Requirement already satisfied: torch>=1.8.0 in c:\\users\\ton7323\\appdata\\local\\anaconda3\\lib\\site-packages (from ultralytics) (2.2.1)\n",
      "Requirement already satisfied: torchvision>=0.9.0 in c:\\users\\ton7323\\appdata\\local\\anaconda3\\lib\\site-packages (from ultralytics) (0.17.1)\n",
      "Requirement already satisfied: tqdm>=4.64.0 in c:\\users\\ton7323\\appdata\\local\\anaconda3\\lib\\site-packages (from ultralytics) (4.65.0)\n",
      "Requirement already satisfied: psutil in c:\\users\\ton7323\\appdata\\local\\anaconda3\\lib\\site-packages (from ultralytics) (5.9.0)\n",
      "Requirement already satisfied: py-cpuinfo in c:\\users\\ton7323\\appdata\\local\\anaconda3\\lib\\site-packages (from ultralytics) (8.0.0)\n",
      "Requirement already satisfied: thop>=0.1.1 in c:\\users\\ton7323\\appdata\\local\\anaconda3\\lib\\site-packages (from ultralytics) (0.1.1.post2209072238)\n",
      "Requirement already satisfied: pandas>=1.1.4 in c:\\users\\ton7323\\appdata\\local\\anaconda3\\lib\\site-packages (from ultralytics) (1.5.3)\n",
      "Requirement already satisfied: seaborn>=0.11.0 in c:\\users\\ton7323\\appdata\\local\\anaconda3\\lib\\site-packages (from ultralytics) (0.12.2)\n",
      "Requirement already satisfied: contourpy>=1.0.1 in c:\\users\\ton7323\\appdata\\local\\anaconda3\\lib\\site-packages (from matplotlib>=3.3.0->ultralytics) (1.0.5)\n",
      "Requirement already satisfied: cycler>=0.10 in c:\\users\\ton7323\\appdata\\local\\anaconda3\\lib\\site-packages (from matplotlib>=3.3.0->ultralytics) (0.10.0)\n",
      "Requirement already satisfied: fonttools>=4.22.0 in c:\\users\\ton7323\\appdata\\local\\anaconda3\\lib\\site-packages (from matplotlib>=3.3.0->ultralytics) (4.25.0)\n",
      "Requirement already satisfied: kiwisolver>=1.0.1 in c:\\users\\ton7323\\appdata\\local\\anaconda3\\lib\\site-packages (from matplotlib>=3.3.0->ultralytics) (1.4.4)\n",
      "Requirement already satisfied: numpy>=1.20 in c:\\users\\ton7323\\appdata\\local\\anaconda3\\lib\\site-packages (from matplotlib>=3.3.0->ultralytics) (1.24.3)\n",
      "Requirement already satisfied: packaging>=20.0 in c:\\users\\ton7323\\appdata\\local\\anaconda3\\lib\\site-packages (from matplotlib>=3.3.0->ultralytics) (23.0)\n",
      "Requirement already satisfied: pyparsing>=2.3.1 in c:\\users\\ton7323\\appdata\\local\\anaconda3\\lib\\site-packages (from matplotlib>=3.3.0->ultralytics) (3.0.9)\n",
      "Requirement already satisfied: python-dateutil>=2.7 in c:\\users\\ton7323\\appdata\\local\\anaconda3\\lib\\site-packages (from matplotlib>=3.3.0->ultralytics) (2.8.2)\n",
      "Requirement already satisfied: pytz>=2020.1 in c:\\users\\ton7323\\appdata\\local\\anaconda3\\lib\\site-packages (from pandas>=1.1.4->ultralytics) (2022.7)\n",
      "Requirement already satisfied: charset-normalizer<4,>=2 in c:\\users\\ton7323\\appdata\\local\\anaconda3\\lib\\site-packages (from requests>=2.23.0->ultralytics) (2.0.4)\n",
      "Requirement already satisfied: idna<4,>=2.5 in c:\\users\\ton7323\\appdata\\local\\anaconda3\\lib\\site-packages (from requests>=2.23.0->ultralytics) (2.10)\n",
      "Requirement already satisfied: urllib3<3,>=1.21.1 in c:\\users\\ton7323\\appdata\\local\\anaconda3\\lib\\site-packages (from requests>=2.23.0->ultralytics) (1.26.16)\n",
      "Requirement already satisfied: certifi>=2017.4.17 in c:\\users\\ton7323\\appdata\\local\\anaconda3\\lib\\site-packages (from requests>=2.23.0->ultralytics) (2023.7.22)\n",
      "Requirement already satisfied: filelock in c:\\users\\ton7323\\appdata\\local\\anaconda3\\lib\\site-packages (from torch>=1.8.0->ultralytics) (3.9.0)\n",
      "Requirement already satisfied: typing-extensions>=4.8.0 in c:\\users\\ton7323\\appdata\\local\\anaconda3\\lib\\site-packages (from torch>=1.8.0->ultralytics) (4.10.0)\n",
      "Requirement already satisfied: sympy in c:\\users\\ton7323\\appdata\\local\\anaconda3\\lib\\site-packages (from torch>=1.8.0->ultralytics) (1.11.1)\n",
      "Requirement already satisfied: networkx in c:\\users\\ton7323\\appdata\\local\\anaconda3\\lib\\site-packages (from torch>=1.8.0->ultralytics) (3.1)\n",
      "Requirement already satisfied: jinja2 in c:\\users\\ton7323\\appdata\\local\\anaconda3\\lib\\site-packages (from torch>=1.8.0->ultralytics) (3.1.2)\n",
      "Requirement already satisfied: fsspec in c:\\users\\ton7323\\appdata\\local\\anaconda3\\lib\\site-packages (from torch>=1.8.0->ultralytics) (2023.12.2)\n",
      "Requirement already satisfied: colorama in c:\\users\\ton7323\\appdata\\local\\anaconda3\\lib\\site-packages (from tqdm>=4.64.0->ultralytics) (0.4.6)\n",
      "Requirement already satisfied: six in c:\\users\\ton7323\\appdata\\local\\anaconda3\\lib\\site-packages (from cycler>=0.10->matplotlib>=3.3.0->ultralytics) (1.16.0)\n",
      "Requirement already satisfied: MarkupSafe>=2.0 in c:\\users\\ton7323\\appdata\\local\\anaconda3\\lib\\site-packages (from jinja2->torch>=1.8.0->ultralytics) (2.1.1)\n",
      "Requirement already satisfied: mpmath>=0.19 in c:\\users\\ton7323\\appdata\\local\\anaconda3\\lib\\site-packages (from sympy->torch>=1.8.0->ultralytics) (1.3.0)\n"
     ]
    }
   ],
   "source": [
    "!pip install roboflow\n",
    "!pip install ultralytics"
   ]
  },
  {
   "cell_type": "code",
   "execution_count": 4,
   "metadata": {},
   "outputs": [
    {
     "name": "stdout",
     "output_type": "stream",
     "text": [
      "loading Roboflow workspace...\n",
      "loading Roboflow project...\n"
     ]
    },
    {
     "name": "stderr",
     "output_type": "stream",
     "text": [
      "Downloading Dataset Version Zip in tennis-ball-detection-6 to yolov5pytorch:: 100%|██████████| 52040/52040 [00:03<00:00, 15482.47it/s]"
     ]
    },
    {
     "name": "stdout",
     "output_type": "stream",
     "text": [
      "\n"
     ]
    },
    {
     "name": "stderr",
     "output_type": "stream",
     "text": [
      "\n",
      "Extracting Dataset Version Zip to tennis-ball-detection-6 in yolov5pytorch:: 100%|██████████| 1168/1168 [00:01<00:00, 716.11it/s]\n"
     ]
    }
   ],
   "source": [
    "# get dataset from roboflow\n",
    "import json\n",
    "from roboflow import Roboflow\n",
    "\n",
    "# Load API key from config.json\n",
    "with open('config.json') as config_file:\n",
    "    config = json.load(config_file)\n",
    "    api_key = config['api_key']\n",
    "\n",
    "rf = Roboflow(api_key=api_key)\n",
    "project = rf.workspace(\"viren-dhanwani\").project(\"tennis-ball-detection\")\n",
    "version = project.version(6)\n",
    "dataset = version.download(\"yolov5\")\n",
    "\n",
    "\n"
   ]
  },
  {
   "cell_type": "code",
   "execution_count": null,
   "metadata": {},
   "outputs": [],
   "source": []
  }
 ],
 "metadata": {
  "kernelspec": {
   "display_name": "base",
   "language": "python",
   "name": "python3"
  },
  "language_info": {
   "codemirror_mode": {
    "name": "ipython",
    "version": 3
   },
   "file_extension": ".py",
   "mimetype": "text/x-python",
   "name": "python",
   "nbconvert_exporter": "python",
   "pygments_lexer": "ipython3",
   "version": "3.11.5"
  }
 },
 "nbformat": 4,
 "nbformat_minor": 2
}
